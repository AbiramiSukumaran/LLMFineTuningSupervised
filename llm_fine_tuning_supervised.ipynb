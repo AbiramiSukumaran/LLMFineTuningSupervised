{
  "nbformat": 4,
  "nbformat_minor": 0,
  "metadata": {
    "colab": {
      "provenance": []
    },
    "kernelspec": {
      "name": "python3",
      "display_name": "Python 3"
    },
    "language_info": {
      "name": "python"
    }
  },
  "cells": [
    {
      "cell_type": "code",
      "source": [
        "# Copyright 2023 Google LLC\n",
        "#\n",
        "# Licensed under the Apache License, Version 2.0 (the \"License\");\n",
        "# you may not use this file except in compliance with the License.\n",
        "# You may obtain a copy of the License at\n",
        "#\n",
        "#     https://www.apache.org/licenses/LICENSE-2.0\n",
        "#\n",
        "# Unless required by applicable law or agreed to in writing, software\n",
        "# distributed under the License is distributed on an \"AS IS\" BASIS,\n",
        "# WITHOUT WARRANTIES OR CONDITIONS OF ANY KIND, either express or implied.\n",
        "# See the License for the specific language governing permissions and\n",
        "# limitations under the License."
      ],
      "metadata": {
        "id": "lxNSDQiABtXy"
      },
      "execution_count": null,
      "outputs": []
    },
    {
      "cell_type": "markdown",
      "source": [
        "# Model Tuning with Vertex AI Foundation Model"
      ],
      "metadata": {
        "id": "80XPRJ8v5lgL"
      }
    },
    {
      "cell_type": "markdown",
      "source": [
        "LLMOps, or Large Language Model Operations, is an important methodology as organizations increasingly adopt large language models (LLMs) for a wide range of applications. LLMOps is the set of tools, processes, and best practices for managing the lifecycle of LLMs, from development and deployment to monitoring and maintenance. Vertex AI offers services to manage LLMOps pipelines as also mechanisms to evaluate the new models quality after every pipeline execution that you run. Model fine-tuning is a powerful technique used to improve the performance of pre-trained language models (LLMs) for specific tasks or domains. It involves adjusting the model's parameters based on a new dataset or task-specific data to enhance its ability to make accurate predictions or generate relevant text. By fine-tuning an LLM, we can leverage its existing knowledge and adapt it to a specific context, resulting in improved results and better-tailored outputs. For more details on tuning have a look at the official [documentation](https://cloud.google.com/vertex-ai/generative-ai/docs/models/tune-models)."
      ],
      "metadata": {
        "id": "bhOnxlzu7ueX"
      }
    },
    {
      "cell_type": "markdown",
      "source": [
        "# Objective"
      ],
      "metadata": {
        "id": "MpxwbaWD8Vyn"
      }
    },
    {
      "cell_type": "markdown",
      "source": [
        "This lab teaches you how to tune a foundational model on new unseen data and you will use the following Google Cloud products:\n",
        "*   Vertex AI Pipelines\n",
        "*   Vertex AI Evaluation Services\n",
        "*   Vertex AI Model Registry\n",
        "*   Vertex AI Endpoints"
      ],
      "metadata": {
        "id": "TwFJ03nC712l"
      }
    },
    {
      "cell_type": "markdown",
      "source": [
        "# Use Case"
      ],
      "metadata": {
        "id": "r2FysBTQ8Y0G"
      }
    },
    {
      "cell_type": "markdown",
      "source": [
        "Using Generative AI we will generate a suitable TITLE for a news BODY from BBC FULLTEXT DATA (BigQuery Public Dataset bigquery-public-data.bbc_news.fulltext). Data prepared and made available in the repo in the .jsonl format. \n",
        "\n",
        "We will fine tune text-bison@002 to a new fine-tuned model called \"bbc-news-summary-tuned\" and compare the result the response from the base model."
      ],
      "metadata": {
        "id": "x-UZNmmw8a3K"
      }
    },
    {
      "cell_type": "markdown",
      "source": [
        "# Install and Import Dependencies"
      ],
      "metadata": {
        "id": "-B6XiWwF1Ja9"
      }
    },
    {
      "cell_type": "code",
      "execution_count": null,
      "metadata": {
        "id": "k5l7--obsUKv"
      },
      "outputs": [],
      "source": [
        "!pip install google-cloud-aiplatform\n",
        "!pip install --user datasets\n",
        "!pip install --user google-cloud-pipeline-components"
      ]
    },
    {
      "cell_type": "code",
      "source": [
        "import IPython\n",
        "\n",
        "app = IPython.Application.instance()\n",
        "app.kernel.do_shutdown(True)"
      ],
      "metadata": {
        "colab": {
          "base_uri": "https://localhost:8080/"
        },
        "id": "yWIsbb7RtAwN",
        "outputId": "ae901ec9-5edd-4c62-a258-a6a962b42d91"
      },
      "execution_count": 2,
      "outputs": [
        {
          "output_type": "execute_result",
          "data": {
            "text/plain": [
              "{'status': 'ok', 'restart': True}"
            ]
          },
          "metadata": {},
          "execution_count": 2
        }
      ]
    },
    {
      "cell_type": "code",
      "source": [
        "import IPython\n",
        "from google.cloud import aiplatform\n",
        "from google.colab import auth as google_auth\n",
        "google_auth.authenticate_user()"
      ],
      "metadata": {
        "id": "TdMNkeTWspQS"
      },
      "execution_count": 1,
      "outputs": []
    },
    {
      "cell_type": "code",
      "source": [
        "import vertexai\n",
        "PROJECT_ID = \"YOUR_PROJECT_ID\" #@param\n",
        "vertexai.init(project=PROJECT_ID)"
      ],
      "metadata": {
        "id": "Frvr_myhs1L9"
      },
      "execution_count": 3,
      "outputs": []
    },
    {
      "cell_type": "code",
      "source": [
        "region = \"us-central1\"\n",
        "project_id = \"YOUR_PROJECT_ID\""
      ],
      "metadata": {
        "id": "9pog2mkBtP3E"
      },
      "execution_count": 4,
      "outputs": []
    },
    {
      "cell_type": "code",
      "source": [
        "! gcloud config set project {project_id}"
      ],
      "metadata": {
        "colab": {
          "base_uri": "https://localhost:8080/"
        },
        "id": "InNk_-_TtkSt",
        "outputId": "cd4360c2-a746-40f7-a116-e82c5fc5310b"
      },
      "execution_count": 5,
      "outputs": [
        {
          "output_type": "stream",
          "name": "stdout",
          "text": [
            "Updated property [core/project].\n"
          ]
        }
      ]
    },
    {
      "cell_type": "code",
      "source": [
        "#Import the necessary libraries\n",
        "\n",
        "import os\n",
        "os.environ['TF_CPP_MIN_LOG_LEVEL'] = '3'\n",
        "import warnings\n",
        "warnings.filterwarnings('ignore')\n",
        "import vertexai\n",
        "vertexai.init(project=PROJECT_ID, location=REGION)\n",
        "import kfp\n",
        "import sys\n",
        "import uuid\n",
        "import json\n",
        "import vertexai\n",
        "import pandas as pd\n",
        "from google.auth import default\n",
        "from datasets import load_dataset\n",
        "from google.cloud import aiplatform\n",
        "from vertexai.preview.language_models import TextGenerationModel, EvaluationTextSummarizationSpec\n"
      ],
      "metadata": {
        "id": "FGfBIRmAuWl8"
      },
      "execution_count": 8,
      "outputs": []
    },
    {
      "cell_type": "markdown",
      "source": [
        "# Prepare & Load Training Data"
      ],
      "metadata": {
        "id": "E4-peVbi1j4e"
      }
    },
    {
      "cell_type": "code",
      "source": [
        "BUCKET_NAME = 'img_public_test/next_demo'\n",
        "BUCKET_URI = f\"gs://img_public_test/next_demo/TRAIN.jsonl\"\n",
        "REGION = \"us-central1\""
      ],
      "metadata": {
        "id": "fin5SxNztrF4"
      },
      "execution_count": 7,
      "outputs": []
    },
    {
      "cell_type": "code",
      "source": [
        "json_url = 'https://storage.googleapis.com/YOUR_BUCKET/TRAIN.jsonl'\n",
        "df = pd.read_json(json_url, lines=True)\n",
        "print (df)"
      ],
      "metadata": {
        "colab": {
          "base_uri": "https://localhost:8080/"
        },
        "id": "p98ecQiqvDZV",
        "outputId": "82f6a78c-d44e-42d0-9761-0fe107d52200"
      },
      "execution_count": 33,
      "outputs": [
        {
          "output_type": "stream",
          "name": "stdout",
          "text": [
            "                                            input_text  \\\n",
            "0    The BBC News website takes a look at how games...   \n",
            "1    The explosion in consumer technology is to con...   \n",
            "2    The proportion of surfers using Microsoft's In...   \n",
            "3    'God games' in which players must control virt...   \n",
            "4    Online communities set up by the UK government...   \n",
            "..                                                 ...   \n",
            "739  MTV has been criticised for \"incessant sleaze\"...   \n",
            "740  Actress Anna Keaveney, who appeared in Brooksi...   \n",
            "741  The permanent replacement for late DJ John Pee...   \n",
            "742  Ocean's Twelve, the crime caper sequel starrin...   \n",
            "743  Digital music downloads are being included in ...   \n",
            "\n",
            "                           output_text  \n",
            "0             Mobile games come of age  \n",
            "1      Gadget market 'to grow in 2005'  \n",
            "2    New browser wins over net surfers  \n",
            "3      Games help you 'learn and play'  \n",
            "4       Online commons to spark debate  \n",
            "..                                 ...  \n",
            "739    Campaigners attack MTV 'sleaze'  \n",
            "740    Brookside actress Keaveney dies  \n",
            "741  John Peel replacement show begins  \n",
            "742    Ocean's Twelve raids box office  \n",
            "743   Downloads enter US singles chart  \n",
            "\n",
            "[744 rows x 2 columns]\n"
          ]
        }
      ]
    },
    {
      "cell_type": "code",
      "source": [
        "print(df.shape)"
      ],
      "metadata": {
        "colab": {
          "base_uri": "https://localhost:8080/"
        },
        "id": "zyn4n4EzvDa9",
        "outputId": "1a6040f3-5a18-414c-d99a-96df2120a04c"
      },
      "execution_count": 16,
      "outputs": [
        {
          "output_type": "stream",
          "name": "stdout",
          "text": [
            "(744, 2)\n"
          ]
        }
      ]
    },
    {
      "cell_type": "markdown",
      "source": [
        "Fine Tune Text Bison@002 Model"
      ],
      "metadata": {
        "id": "mDh3c3kS15rs"
      }
    },
    {
      "cell_type": "code",
      "source": [
        "model_display_name = 'bbc-finetuned-model' # @param {type:\"string\"}\n",
        "tuned_model = TextGenerationModel.from_pretrained(\"text-bison@002\")\n",
        "tuned_model.tune_model(\n",
        "training_data=df,\n",
        "train_steps=100,\n",
        "tuning_job_location=\"europe-west4\",\n",
        "tuned_model_location=\"europe-west4\",\n",
        ")\n"
      ],
      "metadata": {
        "colab": {
          "base_uri": "https://localhost:8080/"
        },
        "id": "wGFyXDrqA7iD",
        "outputId": "e0ea11b9-4964-4bb4-ec8e-444d22cd4820"
      },
      "execution_count": 20,
      "outputs": [
        {
          "output_type": "stream",
          "name": "stderr",
          "text": [
            "INFO:google.cloud.aiplatform.pipeline_jobs:Creating PipelineJob\n",
            "INFO:google.cloud.aiplatform.pipeline_jobs:PipelineJob created. Resource name: projects/273845608377/locations/europe-west4/pipelineJobs/tune-large-model-20240403173809\n",
            "INFO:google.cloud.aiplatform.pipeline_jobs:To use this PipelineJob in another session:\n",
            "INFO:google.cloud.aiplatform.pipeline_jobs:pipeline_job = aiplatform.PipelineJob.get('projects/273845608377/locations/europe-west4/pipelineJobs/tune-large-model-20240403173809')\n",
            "INFO:google.cloud.aiplatform.pipeline_jobs:View Pipeline Job:\n",
            "https://console.cloud.google.com/vertex-ai/locations/europe-west4/pipelines/runs/tune-large-model-20240403173809?project=273845608377\n",
            "INFO:google.cloud.aiplatform.pipeline_jobs:PipelineJob projects/273845608377/locations/europe-west4/pipelineJobs/tune-large-model-20240403173809 current state:\n",
            "PipelineState.PIPELINE_STATE_PENDING\n",
            "INFO:google.cloud.aiplatform.pipeline_jobs:PipelineJob projects/273845608377/locations/europe-west4/pipelineJobs/tune-large-model-20240403173809 current state:\n",
            "PipelineState.PIPELINE_STATE_RUNNING\n",
            "INFO:google.cloud.aiplatform.pipeline_jobs:PipelineJob projects/273845608377/locations/europe-west4/pipelineJobs/tune-large-model-20240403173809 current state:\n",
            "PipelineState.PIPELINE_STATE_RUNNING\n",
            "INFO:google.cloud.aiplatform.pipeline_jobs:PipelineJob projects/273845608377/locations/europe-west4/pipelineJobs/tune-large-model-20240403173809 current state:\n",
            "PipelineState.PIPELINE_STATE_RUNNING\n",
            "INFO:google.cloud.aiplatform.pipeline_jobs:PipelineJob projects/273845608377/locations/europe-west4/pipelineJobs/tune-large-model-20240403173809 current state:\n",
            "PipelineState.PIPELINE_STATE_RUNNING\n",
            "INFO:google.cloud.aiplatform.pipeline_jobs:PipelineJob projects/273845608377/locations/europe-west4/pipelineJobs/tune-large-model-20240403173809 current state:\n",
            "PipelineState.PIPELINE_STATE_RUNNING\n",
            "INFO:google.cloud.aiplatform.pipeline_jobs:PipelineJob projects/273845608377/locations/europe-west4/pipelineJobs/tune-large-model-20240403173809 current state:\n",
            "PipelineState.PIPELINE_STATE_RUNNING\n",
            "INFO:google.cloud.aiplatform.pipeline_jobs:PipelineJob projects/273845608377/locations/europe-west4/pipelineJobs/tune-large-model-20240403173809 current state:\n",
            "PipelineState.PIPELINE_STATE_RUNNING\n",
            "INFO:google.cloud.aiplatform.pipeline_jobs:PipelineJob projects/273845608377/locations/europe-west4/pipelineJobs/tune-large-model-20240403173809 current state:\n",
            "PipelineState.PIPELINE_STATE_RUNNING\n",
            "INFO:google.cloud.aiplatform.pipeline_jobs:PipelineJob projects/273845608377/locations/europe-west4/pipelineJobs/tune-large-model-20240403173809 current state:\n",
            "PipelineState.PIPELINE_STATE_RUNNING\n",
            "INFO:google.cloud.aiplatform.pipeline_jobs:PipelineJob projects/273845608377/locations/europe-west4/pipelineJobs/tune-large-model-20240403173809 current state:\n",
            "PipelineState.PIPELINE_STATE_RUNNING\n",
            "INFO:google.cloud.aiplatform.pipeline_jobs:PipelineJob projects/273845608377/locations/europe-west4/pipelineJobs/tune-large-model-20240403173809 current state:\n",
            "PipelineState.PIPELINE_STATE_RUNNING\n",
            "INFO:google.cloud.aiplatform.pipeline_jobs:PipelineJob projects/273845608377/locations/europe-west4/pipelineJobs/tune-large-model-20240403173809 current state:\n",
            "PipelineState.PIPELINE_STATE_RUNNING\n",
            "INFO:google.cloud.aiplatform.pipeline_jobs:PipelineJob projects/273845608377/locations/europe-west4/pipelineJobs/tune-large-model-20240403173809 current state:\n",
            "PipelineState.PIPELINE_STATE_RUNNING\n",
            "INFO:google.cloud.aiplatform.pipeline_jobs:PipelineJob projects/273845608377/locations/europe-west4/pipelineJobs/tune-large-model-20240403173809 current state:\n",
            "PipelineState.PIPELINE_STATE_RUNNING\n",
            "INFO:google.cloud.aiplatform.pipeline_jobs:PipelineJob projects/273845608377/locations/europe-west4/pipelineJobs/tune-large-model-20240403173809 current state:\n",
            "PipelineState.PIPELINE_STATE_RUNNING\n",
            "INFO:google.cloud.aiplatform.pipeline_jobs:PipelineJob projects/273845608377/locations/europe-west4/pipelineJobs/tune-large-model-20240403173809 current state:\n",
            "PipelineState.PIPELINE_STATE_RUNNING\n",
            "INFO:google.cloud.aiplatform.pipeline_jobs:PipelineJob projects/273845608377/locations/europe-west4/pipelineJobs/tune-large-model-20240403173809 current state:\n",
            "PipelineState.PIPELINE_STATE_RUNNING\n",
            "INFO:google.cloud.aiplatform.pipeline_jobs:PipelineJob projects/273845608377/locations/europe-west4/pipelineJobs/tune-large-model-20240403173809 current state:\n",
            "PipelineState.PIPELINE_STATE_RUNNING\n",
            "INFO:google.cloud.aiplatform.pipeline_jobs:PipelineJob projects/273845608377/locations/europe-west4/pipelineJobs/tune-large-model-20240403173809 current state:\n",
            "PipelineState.PIPELINE_STATE_RUNNING\n",
            "INFO:google.cloud.aiplatform.pipeline_jobs:PipelineJob projects/273845608377/locations/europe-west4/pipelineJobs/tune-large-model-20240403173809 current state:\n",
            "PipelineState.PIPELINE_STATE_RUNNING\n",
            "INFO:google.cloud.aiplatform.pipeline_jobs:PipelineJob projects/273845608377/locations/europe-west4/pipelineJobs/tune-large-model-20240403173809 current state:\n",
            "PipelineState.PIPELINE_STATE_RUNNING\n",
            "INFO:google.cloud.aiplatform.pipeline_jobs:PipelineJob projects/273845608377/locations/europe-west4/pipelineJobs/tune-large-model-20240403173809 current state:\n",
            "PipelineState.PIPELINE_STATE_RUNNING\n",
            "INFO:google.cloud.aiplatform.pipeline_jobs:PipelineJob projects/273845608377/locations/europe-west4/pipelineJobs/tune-large-model-20240403173809 current state:\n",
            "PipelineState.PIPELINE_STATE_RUNNING\n",
            "INFO:google.cloud.aiplatform.pipeline_jobs:PipelineJob projects/273845608377/locations/europe-west4/pipelineJobs/tune-large-model-20240403173809 current state:\n",
            "PipelineState.PIPELINE_STATE_RUNNING\n",
            "INFO:google.cloud.aiplatform.pipeline_jobs:PipelineJob projects/273845608377/locations/europe-west4/pipelineJobs/tune-large-model-20240403173809 current state:\n",
            "PipelineState.PIPELINE_STATE_RUNNING\n",
            "INFO:google.cloud.aiplatform.pipeline_jobs:PipelineJob projects/273845608377/locations/europe-west4/pipelineJobs/tune-large-model-20240403173809 current state:\n",
            "PipelineState.PIPELINE_STATE_RUNNING\n",
            "INFO:google.cloud.aiplatform.pipeline_jobs:PipelineJob projects/273845608377/locations/europe-west4/pipelineJobs/tune-large-model-20240403173809 current state:\n",
            "PipelineState.PIPELINE_STATE_RUNNING\n",
            "INFO:google.cloud.aiplatform.pipeline_jobs:PipelineJob projects/273845608377/locations/europe-west4/pipelineJobs/tune-large-model-20240403173809 current state:\n",
            "PipelineState.PIPELINE_STATE_RUNNING\n",
            "INFO:google.cloud.aiplatform.pipeline_jobs:PipelineJob projects/273845608377/locations/europe-west4/pipelineJobs/tune-large-model-20240403173809 current state:\n",
            "PipelineState.PIPELINE_STATE_RUNNING\n",
            "INFO:google.cloud.aiplatform.pipeline_jobs:PipelineJob projects/273845608377/locations/europe-west4/pipelineJobs/tune-large-model-20240403173809 current state:\n",
            "PipelineState.PIPELINE_STATE_RUNNING\n",
            "INFO:google.cloud.aiplatform.pipeline_jobs:PipelineJob projects/273845608377/locations/europe-west4/pipelineJobs/tune-large-model-20240403173809 current state:\n",
            "PipelineState.PIPELINE_STATE_RUNNING\n",
            "INFO:google.cloud.aiplatform.pipeline_jobs:PipelineJob projects/273845608377/locations/europe-west4/pipelineJobs/tune-large-model-20240403173809 current state:\n",
            "PipelineState.PIPELINE_STATE_RUNNING\n",
            "INFO:google.cloud.aiplatform.pipeline_jobs:PipelineJob projects/273845608377/locations/europe-west4/pipelineJobs/tune-large-model-20240403173809 current state:\n",
            "PipelineState.PIPELINE_STATE_RUNNING\n",
            "INFO:google.cloud.aiplatform.pipeline_jobs:PipelineJob projects/273845608377/locations/europe-west4/pipelineJobs/tune-large-model-20240403173809 current state:\n",
            "PipelineState.PIPELINE_STATE_RUNNING\n",
            "INFO:google.cloud.aiplatform.pipeline_jobs:PipelineJob projects/273845608377/locations/europe-west4/pipelineJobs/tune-large-model-20240403173809 current state:\n",
            "PipelineState.PIPELINE_STATE_RUNNING\n",
            "INFO:google.cloud.aiplatform.pipeline_jobs:PipelineJob projects/273845608377/locations/europe-west4/pipelineJobs/tune-large-model-20240403173809 current state:\n",
            "PipelineState.PIPELINE_STATE_RUNNING\n",
            "INFO:google.cloud.aiplatform.pipeline_jobs:PipelineJob projects/273845608377/locations/europe-west4/pipelineJobs/tune-large-model-20240403173809 current state:\n",
            "PipelineState.PIPELINE_STATE_RUNNING\n",
            "INFO:google.cloud.aiplatform.pipeline_jobs:PipelineJob projects/273845608377/locations/europe-west4/pipelineJobs/tune-large-model-20240403173809 current state:\n",
            "PipelineState.PIPELINE_STATE_RUNNING\n",
            "INFO:google.cloud.aiplatform.pipeline_jobs:PipelineJob projects/273845608377/locations/europe-west4/pipelineJobs/tune-large-model-20240403173809 current state:\n",
            "PipelineState.PIPELINE_STATE_RUNNING\n",
            "INFO:google.cloud.aiplatform.pipeline_jobs:PipelineJob projects/273845608377/locations/europe-west4/pipelineJobs/tune-large-model-20240403173809 current state:\n",
            "PipelineState.PIPELINE_STATE_RUNNING\n",
            "INFO:google.cloud.aiplatform.pipeline_jobs:PipelineJob projects/273845608377/locations/europe-west4/pipelineJobs/tune-large-model-20240403173809 current state:\n",
            "PipelineState.PIPELINE_STATE_RUNNING\n",
            "INFO:google.cloud.aiplatform.pipeline_jobs:PipelineJob projects/273845608377/locations/europe-west4/pipelineJobs/tune-large-model-20240403173809 current state:\n",
            "PipelineState.PIPELINE_STATE_RUNNING\n",
            "INFO:google.cloud.aiplatform.pipeline_jobs:PipelineJob projects/273845608377/locations/europe-west4/pipelineJobs/tune-large-model-20240403173809 current state:\n",
            "PipelineState.PIPELINE_STATE_RUNNING\n",
            "INFO:google.cloud.aiplatform.pipeline_jobs:PipelineJob projects/273845608377/locations/europe-west4/pipelineJobs/tune-large-model-20240403173809 current state:\n",
            "PipelineState.PIPELINE_STATE_RUNNING\n",
            "INFO:google.cloud.aiplatform.pipeline_jobs:PipelineJob run completed. Resource name: projects/273845608377/locations/europe-west4/pipelineJobs/tune-large-model-20240403173809\n",
            "INFO:vertexai.language_models._language_models:Tuning has completed. Created Vertex Model: projects/273845608377/locations/europe-west4/models/4220809634753019904@1\n"
          ]
        },
        {
          "output_type": "execute_result",
          "data": {
            "text/plain": [
              "<vertexai.language_models._language_models._LanguageModelTuningJob at 0x7865b7b47040>"
            ]
          },
          "metadata": {},
          "execution_count": 20
        }
      ]
    },
    {
      "cell_type": "markdown",
      "source": [
        "# Predict with the new Fine Tuned Model"
      ],
      "metadata": {
        "id": "pPK75J9C1_je"
      }
    },
    {
      "cell_type": "code",
      "source": [
        "response = tuned_model.predict(\"Summarize this text to generate a title: \\n Ever noticed how plane seats appear to be getting smaller and smaller? With increasing numbers of people taking to the skies, some experts are questioning if having such packed out planes is putting passengers at risk. They say that the shrinking space on aeroplanes is not only uncomfortable it it's putting our health and safety in danger. More than squabbling over the arm rest, shrinking space on planes putting our health and safety in danger? This week, a U.S consumer advisory group set up by the Department of Transportation said at a public hearing that while the government is happy to set standards for animals flying on planes, it doesn't stipulate a minimum amount of space for humans.\")\n",
        "print(response.text)"
      ],
      "metadata": {
        "colab": {
          "base_uri": "https://localhost:8080/"
        },
        "id": "dLuZZQcGzCHJ",
        "outputId": "2ecc2a44-d7b7-4dc4-ab87-64d074c95b8d"
      },
      "execution_count": 23,
      "outputs": [
        {
          "output_type": "stream",
          "name": "stdout",
          "text": [
            " Shrinking space on planes putting our health and safety in danger\n"
          ]
        }
      ]
    },
    {
      "cell_type": "code",
      "source": [
        "tuned_model_name = tuned_model._endpoint.gca_resource.deployed_models[0].model\n",
        "tuned_model_1 = TextGenerationModel.get_tuned_model(tuned_model_name)\n",
        "#TextGenerationModel.get_tuned_model(\"bbc-finetuned-model\")\n",
        "response = tuned_model_1.predict(\"Summarize this text to generate a title: \\n Ever noticed how plane seats appear to be getting smaller and smaller? With increasing numbers of people taking to the skies, some experts are questioning if having such packed out planes is putting passengers at risk. They say that the shrinking space on aeroplanes is not only uncomfortable it it's putting our health and safety in danger. More than squabbling over the arm rest, shrinking space on planes putting our health and safety in danger? This week, a U.S consumer advisory group set up by the Department of Transportation said at a public hearing that while the government is happy to set standards for animals flying on planes, it doesn't stipulate a minimum amount of space for humans.\")\n",
        "print(response.text)"
      ],
      "metadata": {
        "colab": {
          "base_uri": "https://localhost:8080/"
        },
        "id": "76M2mMpl3W3C",
        "outputId": "93a596f4-1c0c-4f06-ceb2-38098fe39a7a"
      },
      "execution_count": 32,
      "outputs": [
        {
          "output_type": "stream",
          "name": "stdout",
          "text": [
            " Shrinking space on planes putting our health and safety in danger\n"
          ]
        }
      ]
    },
    {
      "cell_type": "markdown",
      "source": [
        "# Predict with Base Model for comparison"
      ],
      "metadata": {
        "id": "2gnkdfyF0_H1"
      }
    },
    {
      "cell_type": "code",
      "source": [
        "base_model = TextGenerationModel.from_pretrained(\"text-bison@002\")\n",
        "response = base_model.predict(\"Summarize this text to generate a title: \\n Ever noticed how plane seats appear to be getting smaller and smaller? With increasing numbers of people taking to the skies, some experts are questioning if having such packed out planes is putting passengers at risk. They say that the shrinking space on aeroplanes is not only uncomfortable it it's putting our health and safety in danger. More than squabbling over the arm rest, shrinking space on planes putting our health and safety in danger? This week, a U.S consumer advisory group set up by the Department of Transportation said at a public hearing that while the government is happy to set standards for animals flying on planes, it doesn't stipulate a minimum amount of space for humans.\")\n",
        "print(response.text)"
      ],
      "metadata": {
        "colab": {
          "base_uri": "https://localhost:8080/"
        },
        "id": "wQps8gQ52RJ9",
        "outputId": "8993bf8e-c820-4eed-bc51-35309244dc4e"
      },
      "execution_count": 24,
      "outputs": [
        {
          "output_type": "stream",
          "name": "stdout",
          "text": [
            " Shrinking Space on Planes: Putting Our Health and Safety at Risk?\n"
          ]
        }
      ]
    }
  ]
}
